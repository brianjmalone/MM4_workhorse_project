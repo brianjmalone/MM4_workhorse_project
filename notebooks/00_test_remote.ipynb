{
 "cells": [
  {
   "cell_type": "code",
   "execution_count": null,
   "metadata": {},
   "outputs": [],
   "source": [
    "import pandas as pd\n",
    "import time\n",
    "from pathlib import Path\n",
    "\n",
    "print(\"Starting computation on remote...\")\n",
    "\n",
    "# Trivial 'expensive' computation\n",
    "results = []\n",
    "for i in range(10):\n",
    "    time.sleep(1)  # Simulate work\n",
    "    results.append({\"iteration\": i, \"value\": i ** 2})\n",
    "    print(f\"Iteration {i} complete\")\n",
    "\n",
    "df = pd.DataFrame(results)\n",
    "\n",
    "# Save to results\n",
    "OUTPUT_DIR = Path(\"/output\")\n",
    "OUTPUT_DIR.mkdir(exist_ok=True)\n",
    "\n",
    "df.to_csv(OUTPUT_DIR / \"results.csv\", index=False)\n",
    "print(f\"✓ Saved {len(df)} rows to results.csv\")"
   ]
  }
 ],
 "metadata": {
  "kernelspec": {
   "display_name": "Python 3",
   "language": "python",
   "name": "python3"
  }
 },
 "nbformat": 4,
 "nbformat_minor": 4
}
